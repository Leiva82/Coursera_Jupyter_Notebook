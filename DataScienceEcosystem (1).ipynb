{
 "cells": [
  {
   "cell_type": "markdown",
   "id": "e398a16b-b1e6-4f2b-a10d-8ecc22b5ed47",
   "metadata": {},
   "source": [
    "# Data Science Tools and Ecosystem"
   ]
  },
  {
   "cell_type": "markdown",
   "id": "5bb80b6c-d82a-4fbb-a75d-339369551286",
   "metadata": {},
   "source": [
    "In this notebook, Data Science Tools and Ecosystem are summarized."
   ]
  },
  {
   "cell_type": "markdown",
   "id": "dd9dd15d-a439-4949-ae7f-1ccebc7c7952",
   "metadata": {
    "tags": []
   },
   "source": [
    "## Author\n",
    "Amalia"
   ]
  },
  {
   "cell_type": "markdown",
   "id": "cbb7c4e0-4d96-4cfb-ba11-ab0cd0dd2f09",
   "metadata": {},
   "source": [
    "**Objectives:**\n",
    "- List popular languages for Data Science\n",
    "- List commonly used Libraries used by Data Scientists\n",
    "- List development environment open source tools used in Data Science\n",
    "- Examples of arithmetic expressions in Python"
   ]
  },
  {
   "cell_type": "markdown",
   "id": "8852a8fb-192f-47d0-b696-ab145566a67f",
   "metadata": {
    "tags": []
   },
   "source": [
    "**Some of the popular languages that Data Scientists use are:**\n",
    "1. Python\n",
    "2. R\n",
    "3. SQL\n",
    "4. Scala\n",
    "5. Java\n",
    "6. C++"
   ]
  },
  {
   "cell_type": "markdown",
   "id": "d4c22d8c-75d6-432c-b38c-7bfcd9399416",
   "metadata": {},
   "source": [
    "**Some of the commonly used libraries used by Data Scientists include:**\n",
    "1. Scientific Computing Libraries (i.e. Pandas, etc...)\n",
    "2. Visualization Libraries (i.e. Matplotlib, Seaborn, etc...)\n",
    "3. Machine Learning Libraries (i.e. Scikit-learn, etc...)\n",
    "4. Deep Learning Libraries (i.e. Keras, Tensorflow, etc...)"
   ]
  },
  {
   "cell_type": "markdown",
   "id": "35487089-3483-42b8-abb6-d15ee95ff906",
   "metadata": {},
   "source": [
    "| Data Science Tools |\n",
    "| ------------------ |\n",
    "| Jupyter |\n",
    "| Apache Zeppelin |\n",
    "| Rstudio |"
   ]
  },
  {
   "cell_type": "markdown",
   "id": "9905c577-c392-402a-987c-6d2cdb3d1901",
   "metadata": {},
   "source": [
    "### Below are a few examples of evaluating arithmetic expressions in Python:"
   ]
  },
  {
   "cell_type": "code",
   "execution_count": 1,
   "id": "7f2c8c02-bae7-4a58-ae80-3db1f10b0ffe",
   "metadata": {
    "tags": []
   },
   "outputs": [
    {
     "data": {
      "text/plain": [
       "17"
      ]
     },
     "execution_count": 1,
     "metadata": {},
     "output_type": "execute_result"
    }
   ],
   "source": [
    "# This a simple arithmetic expression to mutiply then add integers\n",
    "(3*4)+5"
   ]
  },
  {
   "cell_type": "code",
   "execution_count": 2,
   "id": "cce53737-e2c6-4f29-a60c-7a81839245c9",
   "metadata": {
    "tags": []
   },
   "outputs": [
    {
     "data": {
      "text/plain": [
       "33.333333333333336"
      ]
     },
     "execution_count": 2,
     "metadata": {},
     "output_type": "execute_result"
    }
   ],
   "source": [
    "# This will convert 200 minutes to hours by diving by 60\n",
    "200/6"
   ]
  },
  {
   "cell_type": "code",
   "execution_count": null,
   "id": "7b2c9e93-391f-40c9-b6dc-8ecf01b7ceb4",
   "metadata": {},
   "outputs": [],
   "source": []
  }
 ],
 "metadata": {
  "kernelspec": {
   "display_name": "Python",
   "language": "python",
   "name": "conda-env-python-py"
  },
  "language_info": {
   "codemirror_mode": {
    "name": "ipython",
    "version": 3
   },
   "file_extension": ".py",
   "mimetype": "text/x-python",
   "name": "python",
   "nbconvert_exporter": "python",
   "pygments_lexer": "ipython3",
   "version": "3.7.12"
  }
 },
 "nbformat": 4,
 "nbformat_minor": 5
}
